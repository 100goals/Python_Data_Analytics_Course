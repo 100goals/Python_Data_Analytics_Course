{
 "cells": [
  {
   "cell_type": "markdown",
   "id": "7d9726ec",
   "metadata": {},
   "source": [
    "<a target=\"_blank\" href=\"https://colab.research.google.com/github/lukebarousse/Python_Data_Analytics_Course/blob/main/1_Basics/00_Intro_To_Programming.ipynb\">\n",
    "  <img src=\"https://colab.research.google.com/assets/colab-badge.svg\" alt=\"Open In Colab\"/>\n",
    "</a>"
   ]
  },
  {
   "cell_type": "markdown",
   "id": "121fe821",
   "metadata": {},
   "source": [
    "## Python 101\n",
    "\n",
    "#### Terms to know:\n",
    "- **Object**\n",
    "- **Variable**\n",
    "- **Function**\n",
    "- **Class**\n",
    "- **Method**\n",
    "- **Attribute**"
   ]
  },
  {
   "cell_type": "markdown",
   "id": "c1ea1f9e",
   "metadata": {},
   "source": [
    "### Objects: The Data Records\n",
    "\n",
    "In data analytics, an object is like a record in your spreadsheet. Each record can have multiple fields, such as job title, location, and salary.\n",
    "\n",
    "**Object**: A data record with fields.\n"
   ]
  },
  {
   "cell_type": "code",
   "execution_count": 69,
   "id": "968ee59f",
   "metadata": {},
   "outputs": [
    {
     "data": {
      "text/plain": [
       "'Data Analyst'"
      ]
     },
     "execution_count": 69,
     "metadata": {},
     "output_type": "execute_result"
    }
   ],
   "source": [
    "\"Data Analyst\""
   ]
  },
  {
   "cell_type": "code",
   "execution_count": 70,
   "id": "53b471a2",
   "metadata": {},
   "outputs": [
    {
     "data": {
      "text/plain": [
       "90000"
      ]
     },
     "execution_count": 70,
     "metadata": {},
     "output_type": "execute_result"
    }
   ],
   "source": [
    "90000"
   ]
  },
  {
   "cell_type": "markdown",
   "id": "1ef640ba",
   "metadata": {},
   "source": [
    "Everything in Python is an object; including functions and classes."
   ]
  },
  {
   "cell_type": "code",
   "execution_count": 6,
   "id": "4d55db87",
   "metadata": {},
   "outputs": [
    {
     "name": "stdout",
     "output_type": "stream",
     "text": [
      "\n"
     ]
    }
   ],
   "source": [
    "print()"
   ]
  },
  {
   "cell_type": "code",
   "execution_count": 7,
   "id": "aaa5da4b",
   "metadata": {},
   "outputs": [
    {
     "data": {
      "text/plain": [
       "str"
      ]
     },
     "execution_count": 7,
     "metadata": {},
     "output_type": "execute_result"
    }
   ],
   "source": [
    "str"
   ]
  },
  {
   "cell_type": "markdown",
   "id": "fe74bb60",
   "metadata": {},
   "source": [
    "### Variables: The Reference to Objects\n",
    "\n",
    "Think of a variable as a cell in an Excel spreadsheet. You can store data in it, like a number, text, or a formula.\n",
    "\n",
    "**Variable**: A named cell that stores an object."
   ]
  },
  {
   "cell_type": "code",
   "execution_count": 1,
   "id": "0fb0d189",
   "metadata": {},
   "outputs": [],
   "source": [
    "job_title = \"Data Analyst\"\n",
    "job_location = \"United States\"\n",
    "job_salary = 90000"
   ]
  },
  {
   "cell_type": "code",
   "execution_count": 3,
   "id": "a03cbbf0",
   "metadata": {},
   "outputs": [
    {
     "data": {
      "text/plain": [
       "(4594639152, 4594645744, 4593144944)"
      ]
     },
     "execution_count": 3,
     "metadata": {},
     "output_type": "execute_result"
    }
   ],
   "source": [
    "# each variable has a unique identifier\n",
    "id(job_title), id(job_location), id(job_salary)"
   ]
  },
  {
   "cell_type": "markdown",
   "id": "864e8619",
   "metadata": {},
   "source": [
    "Variables that reference the same object are the same."
   ]
  },
  {
   "cell_type": "code",
   "execution_count": 2,
   "id": "4b917379",
   "metadata": {},
   "outputs": [
    {
     "data": {
      "text/plain": [
       "'Data Analyst'"
      ]
     },
     "execution_count": 2,
     "metadata": {},
     "output_type": "execute_result"
    }
   ],
   "source": [
    "lukes_job = job_title\n",
    "\n",
    "lukes_job"
   ]
  },
  {
   "cell_type": "code",
   "execution_count": 5,
   "id": "fc07b63c",
   "metadata": {},
   "outputs": [
    {
     "data": {
      "text/plain": [
       "(4594639152, 4594639152)"
      ]
     },
     "execution_count": 5,
     "metadata": {},
     "output_type": "execute_result"
    }
   ],
   "source": [
    "# the id of the same object is the same\n",
    "id(job_title), id(lukes_job)"
   ]
  },
  {
   "cell_type": "markdown",
   "id": "f367a47d",
   "metadata": {},
   "source": [
    "Variables may be assigned the same name, but aren't necessarily the same."
   ]
  },
  {
   "cell_type": "code",
   "execution_count": 8,
   "id": "a5aa7f31",
   "metadata": {},
   "outputs": [
    {
     "data": {
      "text/plain": [
       "(4594562480, 4594554352)"
      ]
     },
     "execution_count": 8,
     "metadata": {},
     "output_type": "execute_result"
    }
   ],
   "source": [
    "job_title1 = \"Data Analyst\"\n",
    "job_title2 = \"Data Analyst\"\n",
    "\n",
    "# the id of the same object is the same\n",
    "id(job_title1), id(job_title2)"
   ]
  },
  {
   "cell_type": "markdown",
   "id": "c246c6c4",
   "metadata": {},
   "source": [
    "### Functions: The Manipulators of Objects\n",
    "\n",
    "Functions are like custom formulas in Excel. They perform tasks that can be applied to different sets of data.\n",
    "\n",
    "**Function**: A reusable piece of code that performs a specific task."
   ]
  },
  {
   "cell_type": "code",
   "execution_count": 72,
   "id": "66b6ee25",
   "metadata": {},
   "outputs": [],
   "source": [
    "def display_info(title, location, salary):\n",
    "    return print(f\"JOB:       {title}\\nLOCATION:  {location}\\nSALARY:    ${salary:,.0f}\")"
   ]
  },
  {
   "cell_type": "code",
   "execution_count": 73,
   "id": "a453263c",
   "metadata": {},
   "outputs": [
    {
     "name": "stdout",
     "output_type": "stream",
     "text": [
      "JOB:       Data Analyst\n",
      "LOCATION:  United States\n",
      "SALARY:    $90,000\n"
     ]
    }
   ],
   "source": [
    "job_title = \"Data Analyst\"\n",
    "job_location = \"United States\"\n",
    "job_salary = 90000\n",
    "\n",
    "display_info(job_title, job_location, job_salary)"
   ]
  },
  {
   "cell_type": "markdown",
   "id": "b7fb6cbf",
   "metadata": {},
   "source": [
    "### Classes: The Template of Objects\n",
    "\n",
    "A class is like a template for your records in Excel. It defines the fields that each record will have.\n",
    "\n",
    "**Class**: A template for creating objects (records).\n"
   ]
  },
  {
   "cell_type": "code",
   "execution_count": 74,
   "id": "2cfd7804",
   "metadata": {},
   "outputs": [],
   "source": [
    "class JobPost:\n",
    "    def __init__(self, title, location, salary):\n",
    "        self.title = title\n",
    "        self.location = location\n",
    "        self.salary = salary\n",
    "\n",
    "    def display_info(self):\n",
    "        return print(f\"JOB:       {self.title}\\nLOCATION:  {self.location}\\nSALARY:    ${self.salary:,.0f}\")"
   ]
  },
  {
   "cell_type": "code",
   "execution_count": 75,
   "id": "d0f7b6c5",
   "metadata": {},
   "outputs": [
    {
     "data": {
      "text/plain": [
       "__main__.JobPost"
      ]
     },
     "execution_count": 75,
     "metadata": {},
     "output_type": "execute_result"
    }
   ],
   "source": [
    "JobPost"
   ]
  },
  {
   "cell_type": "markdown",
   "id": "f5537cd8",
   "metadata": {},
   "source": [
    "### Attributes: The Variables of an Object\n",
    "\n",
    "Attributes are like the columns in your spreadsheet. Each attribute stores specific data for each record.\n",
    "\n",
    "**Attribute**: A field in a record, defined by its class.\n"
   ]
  },
  {
   "cell_type": "code",
   "execution_count": 76,
   "id": "38341fa0",
   "metadata": {},
   "outputs": [],
   "source": [
    "class JobPost:\n",
    "    def __init__(self, title, location, salary):\n",
    "        self.title = title  # Attribute\n",
    "        self.location = location  # Attribute\n",
    "        self.salary = salary  # Attribute"
   ]
  },
  {
   "cell_type": "code",
   "execution_count": 77,
   "id": "dcd89f8a",
   "metadata": {},
   "outputs": [],
   "source": [
    "job = JobPost(\"Data Engineer\", \"New York, NY\", 425000)"
   ]
  },
  {
   "cell_type": "code",
   "execution_count": 78,
   "id": "fbd5b34d",
   "metadata": {},
   "outputs": [
    {
     "data": {
      "text/plain": [
       "'Data Engineer'"
      ]
     },
     "execution_count": 78,
     "metadata": {},
     "output_type": "execute_result"
    }
   ],
   "source": [
    "job.title"
   ]
  },
  {
   "cell_type": "code",
   "execution_count": 79,
   "id": "a6ccd019",
   "metadata": {},
   "outputs": [
    {
     "data": {
      "text/plain": [
       "425000"
      ]
     },
     "execution_count": 79,
     "metadata": {},
     "output_type": "execute_result"
    }
   ],
   "source": [
    "job.salary"
   ]
  },
  {
   "cell_type": "markdown",
   "id": "87300d79",
   "metadata": {},
   "source": [
    "### Methods: The Functions of an Object\n",
    "\n",
    "Methods are like the built-in functions in Excel that operate on your records. They define actions that the records can perform.\n",
    "\n",
    "**Method**: A function defined inside a class that operates on its objects.\n"
   ]
  },
  {
   "cell_type": "code",
   "execution_count": 80,
   "id": "7b3c7c94",
   "metadata": {},
   "outputs": [],
   "source": [
    "class JobPost:\n",
    "    def __init__(self, title, location, salary):\n",
    "        self.title = title\n",
    "        self.location = location\n",
    "        self.salary = salary\n",
    "    \n",
    "    def display_info(self):\n",
    "        return print(f\"JOB:       {self.title}\\nLOCATION:  {self.location}\\nSALARY:    ${self.salary:,.0f}\")"
   ]
  },
  {
   "cell_type": "code",
   "execution_count": 81,
   "id": "00414ac1",
   "metadata": {},
   "outputs": [
    {
     "name": "stdout",
     "output_type": "stream",
     "text": [
      "JOB:       Data Engineer\n",
      "LOCATION:  New York, NY\n",
      "SALARY:    $425,000\n"
     ]
    }
   ],
   "source": [
    "job = JobPost(\"Data Engineer\", \"New York, NY\", 425000)\n",
    "\n",
    "job.display_info()"
   ]
  }
 ],
 "metadata": {
  "kernelspec": {
   "display_name": "python_course",
   "language": "python",
   "name": "python3"
  },
  "language_info": {
   "codemirror_mode": {
    "name": "ipython",
    "version": 3
   },
   "file_extension": ".py",
   "mimetype": "text/x-python",
   "name": "python",
   "nbconvert_exporter": "python",
   "pygments_lexer": "ipython3",
   "version": "3.11.9"
  }
 },
 "nbformat": 4,
 "nbformat_minor": 5
}
