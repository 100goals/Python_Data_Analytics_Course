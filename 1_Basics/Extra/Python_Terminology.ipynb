{
 "cells": [
  {
   "cell_type": "markdown",
   "id": "c04a19f2",
   "metadata": {},
   "source": [
    "<a target=\"_blank\" href=\"https://colab.research.google.com/github/lukebarousse/Python_Data_Analytics_Course/blob/main/1_Basics/Extra/Python_Terminology.ipynb\">\n",
    "  <img src=\"https://colab.research.google.com/assets/colab-badge.svg\" alt=\"Open In Colab\"/>\n",
    "</a>"
   ]
  },
  {
   "cell_type": "markdown",
   "metadata": {},
   "source": [
    "# Python Terminology\n",
    "\n",
    "Common terms that we use in this course and the basic definitions of each:"
   ]
  },
  {
   "cell_type": "markdown",
   "metadata": {},
   "source": [
    "### Variables \n",
    "\n",
    "* Definition: Used to store data in a program, like numbers, text, or more complex data types.\n",
    "* Purpose: Hold data that can be used and manipulated throughout the program."
   ]
  },
  {
   "cell_type": "code",
   "execution_count": 1,
   "metadata": {},
   "outputs": [],
   "source": [
    "job_title = 'Data Analyst'\n",
    "job_skill = 'Python'\n",
    "job_year_salary = 85000"
   ]
  },
  {
   "cell_type": "markdown",
   "metadata": {},
   "source": [
    "### Functions\n",
    "\n",
    "* Definition: Blocks of code that perform specific tasks and can be reused.\n",
    "* Purpose: Help in organizing code, making it modular, reusable, and easier to understand."
   ]
  },
  {
   "cell_type": "code",
   "execution_count": 2,
   "metadata": {},
   "outputs": [
    {
     "data": {
      "text/plain": [
       "150000"
      ]
     },
     "execution_count": 2,
     "metadata": {},
     "output_type": "execute_result"
    }
   ],
   "source": [
    "# Python built-in functions\n",
    "job_salaries = [75000, 150000, 80000]\n",
    "\n",
    "max(job_salaries)"
   ]
  },
  {
   "cell_type": "markdown",
   "metadata": {},
   "source": [
    "### Objects\n",
    "\n",
    "* Definition: These are instances of classes. They hold data (attributes) and actions (methods) defined by their class.\n",
    "* Purpose: Combines *both* data *and* functions that operate on that data, allowing for organized and reusable code."
   ]
  },
  {
   "cell_type": "code",
   "execution_count": 3,
   "metadata": {},
   "outputs": [
    {
     "data": {
      "text/plain": [
       "{'title': 'Data Analyst', 'salary': 85000}"
      ]
     },
     "execution_count": 3,
     "metadata": {},
     "output_type": "execute_result"
    }
   ],
   "source": [
    "# Using a built-in dictionary to create an object\n",
    "job_info = {'title': 'Data Analyst', 'salary': 85000}\n",
    "\n",
    "# The dictionary itself is the object\n",
    "job_info  # Object: {'title': 'Data Analyst', 'salary': 85000}"
   ]
  },
  {
   "cell_type": "markdown",
   "metadata": {},
   "source": [
    "### Classes\n",
    "\n",
    "* Definition: Blueprints for creating objects with specific properties (attributes) and behaviors (methods).\n",
    "* Purpose: Define the structure and behavior of objects, combining data and functions into a single entity."
   ]
  },
  {
   "cell_type": "code",
   "execution_count": 4,
   "metadata": {},
   "outputs": [],
   "source": [
    "# Using the built-in list class to create a list of job skills\n",
    "job_skills = ['Python', 'SQL', 'Machine Learning']"
   ]
  },
  {
   "cell_type": "markdown",
   "metadata": {},
   "source": [
    "### Attributes\n",
    "\n",
    "* Definition: Data stored inside objects.\n",
    "* Purpose: Represent the properties or characteristics of an object."
   ]
  },
  {
   "cell_type": "code",
   "execution_count": 5,
   "metadata": {},
   "outputs": [
    {
     "data": {
      "text/plain": [
       "'Python'"
      ]
     },
     "execution_count": 5,
     "metadata": {},
     "output_type": "execute_result"
    }
   ],
   "source": [
    "# Accessing an attribute (the data within the list)\n",
    "job_skills[0]  # Attribute: 'Python'"
   ]
  },
  {
   "cell_type": "markdown",
   "metadata": {},
   "source": [
    "### Methods\n",
    "\n",
    "* Definition: Functions that are defined within a class and operate on instances of that class (objects).\n",
    "* Purpose: Provide functionality to objects, allowing them to perform actions using their data and behavior defined in the class."
   ]
  },
  {
   "cell_type": "code",
   "execution_count": 6,
   "metadata": {},
   "outputs": [
    {
     "data": {
      "text/plain": [
       "3"
      ]
     },
     "execution_count": 6,
     "metadata": {},
     "output_type": "execute_result"
    }
   ],
   "source": [
    "len(job_skills)"
   ]
  }
 ],
 "metadata": {
  "kernelspec": {
   "display_name": "venv1",
   "language": "python",
   "name": "python3"
  },
  "language_info": {
   "codemirror_mode": {
    "name": "ipython",
    "version": 3
   },
   "file_extension": ".py",
   "mimetype": "text/x-python",
   "name": "python",
   "nbconvert_exporter": "python",
   "pygments_lexer": "ipython3",
   "version": "3.11.9"
  }
 },
 "nbformat": 4,
 "nbformat_minor": 2
}
