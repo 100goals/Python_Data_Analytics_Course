{
 "cells": [
  {
   "cell_type": "markdown",
   "id": "937c1a04",
   "metadata": {},
   "source": [
    "<a target=\"_blank\" href=\"https://colab.research.google.com/github/lukebarousse/Python_Data_Analytics_Course/blob/main/4_Problems/2_20_Seaborn Intro.ipynb\">\n",
    "  <img src=\"https://colab.research.google.com/assets/colab-badge.svg\" alt=\"Open In Colab\"/>\n",
    "</a>"
   ]
  },
  {
   "cell_type": "markdown",
   "id": "136ce309",
   "metadata": {},
   "source": [
    "## 🟩 Top Companies Bar Plot (2.20.1)"
   ]
  },
  {
   "cell_type": "code",
   "execution_count": null,
   "id": "a720be02",
   "metadata": {},
   "outputs": [],
   "source": []
  },
  {
   "cell_type": "markdown",
   "id": "38c59f4e",
   "metadata": {},
   "source": [
    "---"
   ]
  },
  {
   "cell_type": "markdown",
   "id": "faa8e8e2",
   "metadata": {},
   "source": [
    "## 🟨 Data Scientist Salary Histogram (2.20.2)"
   ]
  },
  {
   "cell_type": "code",
   "execution_count": null,
   "id": "74013842",
   "metadata": {},
   "outputs": [],
   "source": []
  },
  {
   "cell_type": "markdown",
   "id": "702bca22",
   "metadata": {},
   "source": [
    "---"
   ]
  },
  {
   "cell_type": "markdown",
   "id": "2fa039d5",
   "metadata": {},
   "source": [
    "## 🟨 Data Roles Salary Box Plot (2.20.3)"
   ]
  },
  {
   "cell_type": "code",
   "execution_count": null,
   "id": "3ce72c17",
   "metadata": {},
   "outputs": [],
   "source": []
  },
  {
   "cell_type": "markdown",
   "id": "7295c2e2",
   "metadata": {},
   "source": [
    "---"
   ]
  },
  {
   "cell_type": "markdown",
   "id": "03f2eb0e",
   "metadata": {},
   "source": [
    "## 🟥 Salary Distribution for United States (2.20.4)"
   ]
  },
  {
   "cell_type": "code",
   "execution_count": null,
   "id": "b0590025",
   "metadata": {},
   "outputs": [],
   "source": []
  },
  {
   "cell_type": "markdown",
   "id": "41416d65",
   "metadata": {},
   "source": [
    "---"
   ]
  }
 ],
 "metadata": {},
 "nbformat": 4,
 "nbformat_minor": 5
}
