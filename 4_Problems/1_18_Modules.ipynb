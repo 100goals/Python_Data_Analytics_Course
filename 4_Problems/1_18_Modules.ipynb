{
 "cells": [
  {
   "cell_type": "markdown",
   "id": "54c69af0",
   "metadata": {},
   "source": [
    "<a target=\"_blank\" href=\"https://colab.research.google.com/github/lukebarousse/Python_Data_Analytics_Course/blob/main/4_Problems/1_18_Modules.ipynb\">\n",
    "  <img src=\"https://colab.research.google.com/assets/colab-badge.svg\" alt=\"Open In Colab\"/>\n",
    "</a>"
   ]
  },
  {
   "cell_type": "markdown",
   "id": "6275a2c8",
   "metadata": {},
   "source": [
    "## 🟩 Calculate Annual Salary (1.18.1)"
   ]
  },
  {
   "cell_type": "code",
   "execution_count": null,
   "id": "61852e86",
   "metadata": {},
   "outputs": [],
   "source": [
    "%%writefile salary_calculator.py\n",
    "# write content of the cell to module salary_calculator"
   ]
  },
  {
   "cell_type": "markdown",
   "id": "1105769b",
   "metadata": {},
   "source": [
    "---"
   ]
  },
  {
   "cell_type": "markdown",
   "id": "ad5f9e59",
   "metadata": {},
   "source": [
    "## 🟨 Filter Job Postings by Location (1.18.2)"
   ]
  },
  {
   "cell_type": "code",
   "execution_count": null,
   "id": "50c82097",
   "metadata": {},
   "outputs": [],
   "source": [
    "%%writefile job_filter.py\n",
    "# write content of the cell to module job_filter"
   ]
  },
  {
   "cell_type": "code",
   "execution_count": null,
   "id": "2b9e6953",
   "metadata": {},
   "outputs": [],
   "source": [
    "# Code Needed\n",
    "job_postings = [\n",
    "    {'title': 'Data Scientist', 'location': 'New York'},\n",
    "    {'title': 'Data Analyst', 'location': 'San Francisco'},\n",
    "    {'title': 'Machine Learning Engineer', 'location': 'New York'}\n",
    "]"
   ]
  },
  {
   "cell_type": "markdown",
   "id": "e1861164",
   "metadata": {},
   "source": [
    "---"
   ]
  }
 ],
 "metadata": {
  "language_info": {
   "name": "python"
  }
 },
 "nbformat": 4,
 "nbformat_minor": 5
}
