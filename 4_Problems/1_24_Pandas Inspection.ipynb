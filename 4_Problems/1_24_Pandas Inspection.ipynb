{
 "cells": [
  {
   "cell_type": "markdown",
   "id": "afd62831",
   "metadata": {},
   "source": [
    "<a target=\"_blank\" href=\"https://colab.research.google.com/github/lukebarousse/Python_Data_Analytics_Course/blob/main/4_Problems/1_24_Pandas Inspection.ipynb\">\n",
    "  <img src=\"https://colab.research.google.com/assets/colab-badge.svg\" alt=\"Open In Colab\"/>\n",
    "</a>"
   ]
  },
  {
   "cell_type": "markdown",
   "id": "dcd73f36",
   "metadata": {},
   "source": [
    "## 🟩 Access Third Row (1.24.1)"
   ]
  },
  {
   "cell_type": "code",
   "execution_count": null,
   "id": "bada727b",
   "metadata": {},
   "outputs": [],
   "source": []
  },
  {
   "cell_type": "markdown",
   "id": "2625930f",
   "metadata": {},
   "source": [
    "---"
   ]
  },
  {
   "cell_type": "markdown",
   "id": "29cec3e2",
   "metadata": {},
   "source": [
    "## 🟨 Unique Job Countries (1.24.2)"
   ]
  },
  {
   "cell_type": "code",
   "execution_count": null,
   "id": "b6bfe29b",
   "metadata": {},
   "outputs": [],
   "source": []
  },
  {
   "cell_type": "markdown",
   "id": "20de2ec6",
   "metadata": {},
   "source": [
    "---"
   ]
  },
  {
   "cell_type": "markdown",
   "id": "98da3ceb",
   "metadata": {},
   "source": [
    "## 🟨 Filter by Job Schedule Type and Display (1.24.3)"
   ]
  },
  {
   "cell_type": "code",
   "execution_count": null,
   "id": "10295ba0",
   "metadata": {},
   "outputs": [],
   "source": []
  },
  {
   "cell_type": "markdown",
   "id": "6a096207",
   "metadata": {},
   "source": [
    "---"
   ]
  },
  {
   "cell_type": "markdown",
   "id": "310c4c3b",
   "metadata": {},
   "source": [
    "## 🟥 Check Missing Values (1.24.4)"
   ]
  },
  {
   "cell_type": "code",
   "execution_count": null,
   "id": "e8184154",
   "metadata": {},
   "outputs": [],
   "source": []
  },
  {
   "cell_type": "markdown",
   "id": "87d9297c",
   "metadata": {},
   "source": [
    "---"
   ]
  }
 ],
 "metadata": {},
 "nbformat": 4,
 "nbformat_minor": 5
}
