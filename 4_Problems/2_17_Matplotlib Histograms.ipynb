{
 "cells": [
  {
   "cell_type": "markdown",
   "id": "370dd70a",
   "metadata": {},
   "source": [
    "<a target=\"_blank\" href=\"https://colab.research.google.com/github/lukebarousse/Python_Data_Analytics_Course/blob/main/4_Problems/2_17_Matplotlib Histograms.ipynb\">\n",
    "  <img src=\"https://colab.research.google.com/assets/colab-badge.svg\" alt=\"Open In Colab\"/>\n",
    "</a>"
   ]
  },
  {
   "cell_type": "markdown",
   "id": "8def2d55",
   "metadata": {},
   "source": [
    "## 🟩 Data Scientist Hourly Salaries (2.17.1)"
   ]
  },
  {
   "cell_type": "code",
   "execution_count": null,
   "id": "1c857a41",
   "metadata": {},
   "outputs": [],
   "source": []
  },
  {
   "cell_type": "markdown",
   "id": "9161bfa6",
   "metadata": {},
   "source": [
    "---"
   ]
  },
  {
   "cell_type": "markdown",
   "id": "4e80afe4",
   "metadata": {},
   "source": [
    "## 🟨 Job Postings by Number of Skills (2.17.2)"
   ]
  },
  {
   "cell_type": "code",
   "execution_count": null,
   "id": "26d2dbf1",
   "metadata": {},
   "outputs": [],
   "source": []
  },
  {
   "cell_type": "markdown",
   "id": "16af731e",
   "metadata": {},
   "source": [
    "---"
   ]
  },
  {
   "cell_type": "markdown",
   "id": "4cb1085e",
   "metadata": {},
   "source": [
    "## 🟥 Data Engineer Salaries (2.17.3)"
   ]
  },
  {
   "cell_type": "code",
   "execution_count": null,
   "id": "4571c079",
   "metadata": {},
   "outputs": [],
   "source": []
  },
  {
   "cell_type": "markdown",
   "id": "f71d3550",
   "metadata": {},
   "source": [
    "---"
   ]
  }
 ],
 "metadata": {},
 "nbformat": 4,
 "nbformat_minor": 5
}
