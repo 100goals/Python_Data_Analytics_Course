{
 "cells": [
  {
   "cell_type": "markdown",
   "id": "0b30e927",
   "metadata": {},
   "source": [
    "<a target=\"_blank\" href=\"https://colab.research.google.com/github/lukebarousse/Python_Data_Analytics_Course/blob/main/4_Problems/2_18_Matplotlib Box Plots.ipynb\">\n",
    "  <img src=\"https://colab.research.google.com/assets/colab-badge.svg\" alt=\"Open In Colab\"/>\n",
    "</a>"
   ]
  },
  {
   "cell_type": "markdown",
   "id": "23525e55",
   "metadata": {},
   "source": [
    "## 🟩 Data Scientist Hourly Salary Box Plot (2.18.1)"
   ]
  },
  {
   "cell_type": "code",
   "execution_count": null,
   "id": "fccfa221",
   "metadata": {},
   "outputs": [],
   "source": []
  },
  {
   "cell_type": "markdown",
   "id": "dbf0176c",
   "metadata": {},
   "source": [
    "---"
   ]
  },
  {
   "cell_type": "markdown",
   "id": "29258e79",
   "metadata": {},
   "source": [
    "## 🟨 Comparison of Hourly Salaries for Data Analyst (2.18.2)"
   ]
  },
  {
   "cell_type": "code",
   "execution_count": null,
   "id": "1b5938ae",
   "metadata": {},
   "outputs": [],
   "source": []
  },
  {
   "cell_type": "markdown",
   "id": "dfeef833",
   "metadata": {},
   "source": [
    "---"
   ]
  },
  {
   "cell_type": "markdown",
   "id": "40ad829f",
   "metadata": {},
   "source": [
    "## 🟥 Comparison of Hourly Salaries in Germany (2.18.3)"
   ]
  },
  {
   "cell_type": "code",
   "execution_count": null,
   "id": "7bf0adce",
   "metadata": {},
   "outputs": [],
   "source": []
  },
  {
   "cell_type": "markdown",
   "id": "c6ec9984",
   "metadata": {},
   "source": [
    "---"
   ]
  }
 ],
 "metadata": {},
 "nbformat": 4,
 "nbformat_minor": 5
}
